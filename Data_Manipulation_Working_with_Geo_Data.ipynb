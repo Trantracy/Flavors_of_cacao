{
  "nbformat": 4,
  "nbformat_minor": 0,
  "metadata": {
    "kernelspec": {
      "display_name": "Python 3",
      "language": "python",
      "name": "python3"
    },
    "language_info": {
      "codemirror_mode": {
        "name": "ipython",
        "version": 3
      },
      "file_extension": ".py",
      "mimetype": "text/x-python",
      "name": "python",
      "nbconvert_exporter": "python",
      "pygments_lexer": "ipython3",
      "version": "3.7.3"
    },
    "colab": {
      "name": "FTMLE_Advanced Data Manipulation _Working with Geo Data.ipynb",
      "provenance": [],
      "collapsed_sections": [],
      "include_colab_link": true
    }
  },
  "cells": [
    {
      "cell_type": "markdown",
      "metadata": {
        "id": "view-in-github",
        "colab_type": "text"
      },
      "source": [
        "<a href=\"https://colab.research.google.com/github/Trantracy/Flavors_of_cacao/blob/master/Data_Manipulation_Working_with_Geo_Data.ipynb\" target=\"_parent\"><img src=\"https://colab.research.google.com/assets/colab-badge.svg\" alt=\"Open In Colab\"/></a>"
      ]
    },
    {
      "cell_type": "markdown",
      "metadata": {
        "id": "Pl_faNmg4Y-a",
        "colab_type": "text"
      },
      "source": [
        "# Advanced Data Manipulation - Working with Geo Data"
      ]
    },
    {
      "cell_type": "code",
      "metadata": {
        "id": "TgQaLfGoOEUo",
        "colab_type": "code",
        "colab": {}
      },
      "source": [
        "# Import libaries\n",
        "import numpy as np\n",
        "import pandas as pd\n",
        "import matplotlib.pyplot as plt"
      ],
      "execution_count": 0,
      "outputs": []
    },
    {
      "cell_type": "code",
      "metadata": {
        "id": "zd5-OgZSQsG1",
        "colab_type": "code",
        "outputId": "90c8d4c8-6ca7-420b-a624-7391034e963d",
        "colab": {
          "base_uri": "https://localhost:8080/",
          "height": 126
        }
      },
      "source": [
        "from google.colab import drive\n",
        "drive.mount('/content/drive')"
      ],
      "execution_count": 0,
      "outputs": [
        {
          "output_type": "stream",
          "text": [
            "Go to this URL in a browser: https://accounts.google.com/o/oauth2/auth?client_id=947318989803-6bn6qk8qdgf4n4g3pfee6491hc0brc4i.apps.googleusercontent.com&redirect_uri=urn%3aietf%3awg%3aoauth%3a2.0%3aoob&response_type=code&scope=email%20https%3a%2f%2fwww.googleapis.com%2fauth%2fdocs.test%20https%3a%2f%2fwww.googleapis.com%2fauth%2fdrive%20https%3a%2f%2fwww.googleapis.com%2fauth%2fdrive.photos.readonly%20https%3a%2f%2fwww.googleapis.com%2fauth%2fpeopleapi.readonly\n",
            "\n",
            "Enter your authorization code:\n",
            "··········\n",
            "Mounted at /content/drive\n"
          ],
          "name": "stdout"
        }
      ]
    },
    {
      "cell_type": "code",
      "metadata": {
        "id": "QB1Tm76OOEUv",
        "colab_type": "code",
        "colab": {}
      },
      "source": [
        "# Read the dataset\n",
        "df = pd.read_csv('/content/drive/My Drive/FTMLE - Tonga/Data/flavors_of_cacao.csv')"
      ],
      "execution_count": 0,
      "outputs": []
    },
    {
      "cell_type": "markdown",
      "metadata": {
        "id": "Xo3CTQFdOEUy",
        "colab_type": "text"
      },
      "source": [
        "## Overview of the dataset"
      ]
    },
    {
      "cell_type": "code",
      "metadata": {
        "id": "lj2_uaXKOEUz",
        "colab_type": "code",
        "outputId": "6c5e0fdd-2e6b-4303-c861-86b6e8d64187",
        "colab": {
          "base_uri": "https://localhost:8080/",
          "height": 340
        }
      },
      "source": [
        "# Show 10 random rows\n",
        "# Your code here\n",
        "df.sample(10)"
      ],
      "execution_count": 0,
      "outputs": [
        {
          "output_type": "execute_result",
          "data": {
            "text/html": [
              "<div>\n",
              "<style scoped>\n",
              "    .dataframe tbody tr th:only-of-type {\n",
              "        vertical-align: middle;\n",
              "    }\n",
              "\n",
              "    .dataframe tbody tr th {\n",
              "        vertical-align: top;\n",
              "    }\n",
              "\n",
              "    .dataframe thead th {\n",
              "        text-align: right;\n",
              "    }\n",
              "</style>\n",
              "<table border=\"1\" class=\"dataframe\">\n",
              "  <thead>\n",
              "    <tr style=\"text-align: right;\">\n",
              "      <th></th>\n",
              "      <th>Company \\n(Maker-if known)</th>\n",
              "      <th>Specific Bean Origin\\nor Bar Name</th>\n",
              "      <th>REF</th>\n",
              "      <th>Review\\nDate</th>\n",
              "      <th>Cocoa\\nPercent</th>\n",
              "      <th>Company\\nLocation</th>\n",
              "      <th>Rating</th>\n",
              "      <th>Bean\\nType</th>\n",
              "      <th>Broad Bean\\nOrigin</th>\n",
              "    </tr>\n",
              "  </thead>\n",
              "  <tbody>\n",
              "    <tr>\n",
              "      <th>135</th>\n",
              "      <td>Artisan du Chocolat</td>\n",
              "      <td>Dominican Republic</td>\n",
              "      <td>363</td>\n",
              "      <td>2009</td>\n",
              "      <td>72%</td>\n",
              "      <td>U.K.</td>\n",
              "      <td>3.25</td>\n",
              "      <td>Trinitario</td>\n",
              "      <td>Dominican Republic</td>\n",
              "    </tr>\n",
              "    <tr>\n",
              "      <th>1111</th>\n",
              "      <td>Michel Cluizel</td>\n",
              "      <td>Chiapas, Mokaya P.</td>\n",
              "      <td>963</td>\n",
              "      <td>2012</td>\n",
              "      <td>66%</td>\n",
              "      <td>France</td>\n",
              "      <td>3.75</td>\n",
              "      <td></td>\n",
              "      <td>Mexico</td>\n",
              "    </tr>\n",
              "    <tr>\n",
              "      <th>590</th>\n",
              "      <td>Duffy's</td>\n",
              "      <td>Panama</td>\n",
              "      <td>516</td>\n",
              "      <td>2010</td>\n",
              "      <td>70%</td>\n",
              "      <td>U.K.</td>\n",
              "      <td>3.50</td>\n",
              "      <td></td>\n",
              "      <td>Panama</td>\n",
              "    </tr>\n",
              "    <tr>\n",
              "      <th>64</th>\n",
              "      <td>Amatller (Simon Coll)</td>\n",
              "      <td>Ecuador</td>\n",
              "      <td>327</td>\n",
              "      <td>2009</td>\n",
              "      <td>70%</td>\n",
              "      <td>Spain</td>\n",
              "      <td>2.75</td>\n",
              "      <td></td>\n",
              "      <td>Ecuador</td>\n",
              "    </tr>\n",
              "    <tr>\n",
              "      <th>520</th>\n",
              "      <td>De Mendes</td>\n",
              "      <td>Selvagem, Jari</td>\n",
              "      <td>1462</td>\n",
              "      <td>2015</td>\n",
              "      <td>65%</td>\n",
              "      <td>Brazil</td>\n",
              "      <td>3.50</td>\n",
              "      <td></td>\n",
              "      <td>Brazil</td>\n",
              "    </tr>\n",
              "    <tr>\n",
              "      <th>282</th>\n",
              "      <td>Cacao Atlanta</td>\n",
              "      <td>Dominican Republic w/ nibs</td>\n",
              "      <td>502</td>\n",
              "      <td>2010</td>\n",
              "      <td>75%</td>\n",
              "      <td>U.S.A.</td>\n",
              "      <td>2.75</td>\n",
              "      <td></td>\n",
              "      <td>Dominican Republic</td>\n",
              "    </tr>\n",
              "    <tr>\n",
              "      <th>1520</th>\n",
              "      <td>Soma</td>\n",
              "      <td>Espiritu Santo, 'Smoke Monster'</td>\n",
              "      <td>1307</td>\n",
              "      <td>2014</td>\n",
              "      <td>70%</td>\n",
              "      <td>Canada</td>\n",
              "      <td>3.75</td>\n",
              "      <td>Forastero (Amelonado)</td>\n",
              "      <td>Vanuatu</td>\n",
              "    </tr>\n",
              "    <tr>\n",
              "      <th>1776</th>\n",
              "      <td>Zokoko</td>\n",
              "      <td>Tokiala</td>\n",
              "      <td>701</td>\n",
              "      <td>2011</td>\n",
              "      <td>66%</td>\n",
              "      <td>Australia</td>\n",
              "      <td>3.50</td>\n",
              "      <td>Trinitario</td>\n",
              "      <td>Papua New Guinea</td>\n",
              "    </tr>\n",
              "    <tr>\n",
              "      <th>1058</th>\n",
              "      <td>Marou</td>\n",
              "      <td>Lam Dong</td>\n",
              "      <td>955</td>\n",
              "      <td>2012</td>\n",
              "      <td>74%</td>\n",
              "      <td>Vietnam</td>\n",
              "      <td>3.50</td>\n",
              "      <td>Trinitario</td>\n",
              "      <td>Vietnam</td>\n",
              "    </tr>\n",
              "    <tr>\n",
              "      <th>608</th>\n",
              "      <td>El Ceibo</td>\n",
              "      <td>Alto Beni, Covendo Region</td>\n",
              "      <td>709</td>\n",
              "      <td>2011</td>\n",
              "      <td>75%</td>\n",
              "      <td>Bolivia</td>\n",
              "      <td>3.75</td>\n",
              "      <td></td>\n",
              "      <td>Bolivia</td>\n",
              "    </tr>\n",
              "  </tbody>\n",
              "</table>\n",
              "</div>"
            ],
            "text/plain": [
              "     Company \\n(Maker-if known)  ...  Broad Bean\\nOrigin\n",
              "135         Artisan du Chocolat  ...  Dominican Republic\n",
              "1111             Michel Cluizel  ...              Mexico\n",
              "590                     Duffy's  ...              Panama\n",
              "64        Amatller (Simon Coll)  ...             Ecuador\n",
              "520                   De Mendes  ...              Brazil\n",
              "282               Cacao Atlanta  ...  Dominican Republic\n",
              "1520                       Soma  ...             Vanuatu\n",
              "1776                     Zokoko  ...    Papua New Guinea\n",
              "1058                      Marou  ...             Vietnam\n",
              "608                    El Ceibo  ...             Bolivia\n",
              "\n",
              "[10 rows x 9 columns]"
            ]
          },
          "metadata": {
            "tags": []
          },
          "execution_count": 10
        }
      ]
    },
    {
      "cell_type": "code",
      "metadata": {
        "id": "lGmgenVlOEU3",
        "colab_type": "code",
        "outputId": "acfc21a6-9768-4c6a-9971-b15151795e19",
        "colab": {
          "base_uri": "https://localhost:8080/",
          "height": 390
        }
      },
      "source": [
        "# Show the summary of the dataset\n",
        "# Your code here\n",
        "df.info()"
      ],
      "execution_count": 0,
      "outputs": [
        {
          "output_type": "stream",
          "text": [
            "<class 'pandas.core.frame.DataFrame'>\n",
            "RangeIndex: 1795 entries, 0 to 1794\n",
            "Data columns (total 9 columns):\n",
            "Company \n",
            "(Maker-if known)           1795 non-null object\n",
            "Specific Bean Origin\n",
            "or Bar Name    1795 non-null object\n",
            "REF                                 1795 non-null int64\n",
            "Review\n",
            "Date                         1795 non-null int64\n",
            "Cocoa\n",
            "Percent                       1795 non-null object\n",
            "Company\n",
            "Location                    1795 non-null object\n",
            "Rating                              1795 non-null float64\n",
            "Bean\n",
            "Type                           1794 non-null object\n",
            "Broad Bean\n",
            "Origin                   1794 non-null object\n",
            "dtypes: float64(1), int64(2), object(6)\n",
            "memory usage: 126.3+ KB\n"
          ],
          "name": "stdout"
        }
      ]
    },
    {
      "cell_type": "markdown",
      "metadata": {
        "id": "bdsOSEGoOEU6",
        "colab_type": "text"
      },
      "source": [
        "## Data Pre-processing"
      ]
    },
    {
      "cell_type": "code",
      "metadata": {
        "id": "w0_1-sUaXqZH",
        "colab_type": "code",
        "outputId": "7a22a4e2-7c51-4c19-c687-61b65a8634d9",
        "colab": {
          "base_uri": "https://localhost:8080/",
          "height": 88
        }
      },
      "source": [
        "df.columns"
      ],
      "execution_count": 0,
      "outputs": [
        {
          "output_type": "execute_result",
          "data": {
            "text/plain": [
              "Index(['Company \\n(Maker-if known)', 'Specific Bean Origin\\nor Bar Name',\n",
              "       'REF', 'Review\\nDate', 'Cocoa\\nPercent', 'Company\\nLocation', 'Rating',\n",
              "       'Bean\\nType', 'Broad Bean\\nOrigin'],\n",
              "      dtype='object')"
            ]
          },
          "metadata": {
            "tags": []
          },
          "execution_count": 12
        }
      ]
    },
    {
      "cell_type": "code",
      "metadata": {
        "id": "3cL3O7wNOEU6",
        "colab_type": "code",
        "colab": {}
      },
      "source": [
        "# Rename columns\n",
        "df.columns = ['Maker','BarName','REF','ReviewDate','CocoaPercentage','Country','Rating','BeanType','BeanOrigin']"
      ],
      "execution_count": 0,
      "outputs": []
    },
    {
      "cell_type": "markdown",
      "metadata": {
        "id": "YTA0rx6cV2CF",
        "colab_type": "text"
      },
      "source": [
        "### Duplicated Data"
      ]
    },
    {
      "cell_type": "code",
      "metadata": {
        "id": "DxelkpamVp0H",
        "colab_type": "code",
        "outputId": "c770b246-3ad1-486c-9e02-4d951dcdd8ed",
        "colab": {
          "base_uri": "https://localhost:8080/",
          "height": 47
        }
      },
      "source": [
        "# Check for duplicated data\n",
        "# Your code here\n",
        "df[df.duplicated()]"
      ],
      "execution_count": 0,
      "outputs": [
        {
          "output_type": "execute_result",
          "data": {
            "text/html": [
              "<div>\n",
              "<style scoped>\n",
              "    .dataframe tbody tr th:only-of-type {\n",
              "        vertical-align: middle;\n",
              "    }\n",
              "\n",
              "    .dataframe tbody tr th {\n",
              "        vertical-align: top;\n",
              "    }\n",
              "\n",
              "    .dataframe thead th {\n",
              "        text-align: right;\n",
              "    }\n",
              "</style>\n",
              "<table border=\"1\" class=\"dataframe\">\n",
              "  <thead>\n",
              "    <tr style=\"text-align: right;\">\n",
              "      <th></th>\n",
              "      <th>Maker</th>\n",
              "      <th>BarName</th>\n",
              "      <th>REF</th>\n",
              "      <th>ReviewDate</th>\n",
              "      <th>CocoaPercentage</th>\n",
              "      <th>Country</th>\n",
              "      <th>Rating</th>\n",
              "      <th>BeanType</th>\n",
              "      <th>BeanOrigin</th>\n",
              "    </tr>\n",
              "  </thead>\n",
              "  <tbody>\n",
              "  </tbody>\n",
              "</table>\n",
              "</div>"
            ],
            "text/plain": [
              "Empty DataFrame\n",
              "Columns: [Maker, BarName, REF, ReviewDate, CocoaPercentage, Country, Rating, BeanType, BeanOrigin]\n",
              "Index: []"
            ]
          },
          "metadata": {
            "tags": []
          },
          "execution_count": 14
        }
      ]
    },
    {
      "cell_type": "markdown",
      "metadata": {
        "id": "mmGMDlJYV4SS",
        "colab_type": "text"
      },
      "source": [
        "### Missing Data"
      ]
    },
    {
      "cell_type": "code",
      "metadata": {
        "colab_type": "code",
        "id": "WGavqUvcIbPq",
        "outputId": "2da575bb-2087-4306-c1aa-223a5df86c03",
        "colab": {
          "base_uri": "https://localhost:8080/",
          "height": 195
        }
      },
      "source": [
        "# Count all missing values in each column\n",
        "# Your code here\n",
        "df.isnull().sum()"
      ],
      "execution_count": 0,
      "outputs": [
        {
          "output_type": "execute_result",
          "data": {
            "text/plain": [
              "Maker              0\n",
              "BarName            0\n",
              "REF                0\n",
              "ReviewDate         0\n",
              "CocoaPercentage    0\n",
              "Country            0\n",
              "Rating             0\n",
              "BeanType           1\n",
              "BeanOrigin         1\n",
              "dtype: int64"
            ]
          },
          "metadata": {
            "tags": []
          },
          "execution_count": 15
        }
      ]
    },
    {
      "cell_type": "code",
      "metadata": {
        "id": "X6bWE4R1eT7m",
        "colab_type": "code",
        "colab": {}
      },
      "source": [
        "# The dataset description suggests that BeanOrigin could be used as products' name. Hence it is safe to replace the missing value in BeanOrigin with Madagascar\n",
        "# Your code here\n",
        "df['BeanOrigin'].fillna('Madagascar', inplace = True)"
      ],
      "execution_count": 0,
      "outputs": []
    },
    {
      "cell_type": "code",
      "metadata": {
        "id": "UWMBT14XedCg",
        "colab_type": "code",
        "colab": {}
      },
      "source": [
        "# There's no indicator on the dataset what the missing data in BeanType might be, so let's drop it\n",
        "# Your code here\n",
        "df.dropna(inplace = True)\n"
      ],
      "execution_count": 0,
      "outputs": []
    },
    {
      "cell_type": "markdown",
      "metadata": {
        "id": "ZjhYVmPRV9ua",
        "colab_type": "text"
      },
      "source": [
        "### Mislabeled Data"
      ]
    },
    {
      "cell_type": "code",
      "metadata": {
        "id": "viy9JnpzOEU9",
        "colab_type": "code",
        "outputId": "72812e53-0251-4694-d7f9-1950e10dd296",
        "colab": {
          "base_uri": "https://localhost:8080/",
          "height": 230
        }
      },
      "source": [
        "# Change the datatype format of CocoaPercentage to float (e.g. 50% -> 0.5)\n",
        "# Your code here\n",
        "def tran(s):\n",
        "    s = s.strip('%')\n",
        "    s = float(s) / 100\n",
        "    return s\n",
        "\n",
        "df['CocoaPercentage'].apply(tran)"
      ],
      "execution_count": 0,
      "outputs": [
        {
          "output_type": "execute_result",
          "data": {
            "text/plain": [
              "0       0.63\n",
              "1       0.70\n",
              "2       0.70\n",
              "3       0.70\n",
              "4       0.70\n",
              "        ... \n",
              "1790    0.70\n",
              "1791    0.65\n",
              "1792    0.65\n",
              "1793    0.62\n",
              "1794    0.65\n",
              "Name: CocoaPercentage, Length: 1794, dtype: float64"
            ]
          },
          "metadata": {
            "tags": []
          },
          "execution_count": 18
        }
      ]
    },
    {
      "cell_type": "code",
      "metadata": {
        "id": "66mamcNhbWAk",
        "colab_type": "code",
        "colab": {}
      },
      "source": [
        "df['CocoaPercentage'] = df['CocoaPercentage'].str.strip('%').astype(float) / 100"
      ],
      "execution_count": 0,
      "outputs": []
    },
    {
      "cell_type": "code",
      "metadata": {
        "id": "GQJkOKrMfYTP",
        "colab_type": "code",
        "outputId": "d9ffa806-6a2d-4de0-e2c3-03f586d537bd",
        "colab": {
          "base_uri": "https://localhost:8080/",
          "height": 764
        }
      },
      "source": [
        "# There is a weird value BeanType. Which one is it?\n",
        "# Your code here\n",
        "df['BeanType'].value_counts()"
      ],
      "execution_count": 0,
      "outputs": [
        {
          "output_type": "execute_result",
          "data": {
            "text/plain": [
              "                            887\n",
              "Trinitario                  419\n",
              "Criollo                     153\n",
              "Forastero                    87\n",
              "Forastero (Nacional)         52\n",
              "Blend                        41\n",
              "Criollo, Trinitario          39\n",
              "Forastero (Arriba)           37\n",
              "Criollo (Porcelana)          10\n",
              "Trinitario, Criollo           9\n",
              "Forastero (Parazinho)         8\n",
              "Forastero (Arriba) ASS        6\n",
              "EET                           3\n",
              "Beniano                       3\n",
              "Nacional (Arriba)             3\n",
              "Matina                        3\n",
              "Amazon mix                    2\n",
              "Criollo (Ocumare 61)          2\n",
              "Trinitario, Forastero         2\n",
              "Criollo (Amarru)              2\n",
              "Criollo, Forastero            2\n",
              "Nacional                      2\n",
              "Forastero (Catongo)           2\n",
              "Amazon, ICS                   2\n",
              "Trinitario (85% Criollo)      2\n",
              "Forastero, Trinitario         1\n",
              "Criollo (Ocumare 67)          1\n",
              "Criollo (Ocumare)             1\n",
              "Trinitario, Nacional          1\n",
              "Forastero (Amelonado)         1\n",
              "CCN51                         1\n",
              "Criollo (Ocumare 77)          1\n",
              "Trinitario, TCGA              1\n",
              "Criollo (Wild)                1\n",
              "Amazon                        1\n",
              "Criollo, +                    1\n",
              "Trinitario (Scavina)          1\n",
              "Blend-Forastero,Criollo       1\n",
              "Trinitario (Amelonado)        1\n",
              "Forastero(Arriba, CCN)        1\n",
              "Forastero (Arriba) ASSS       1\n",
              "Name: BeanType, dtype: int64"
            ]
          },
          "metadata": {
            "tags": []
          },
          "execution_count": 20
        }
      ]
    },
    {
      "cell_type": "code",
      "metadata": {
        "id": "ZNIDQqk8jixQ",
        "colab_type": "code",
        "colab": {}
      },
      "source": [
        "# There are a lot of them, so let's replace then with 'No Record'\n",
        "# Your code here\n",
        "df['BeanType'] = df['BeanType'].str.replace('\\xa0','No Record')"
      ],
      "execution_count": 0,
      "outputs": []
    },
    {
      "cell_type": "code",
      "metadata": {
        "id": "jG1GkzEnx_8h",
        "colab_type": "code",
        "colab": {}
      },
      "source": [
        "# Replace misspelled countries\n",
        "# Niacragua -> Nicaragua, Eucador -> Ecuador\n",
        "# Your code here\n",
        "df['Country'] = df['Country'].str.replace('Niacragua','Nicaragua')\n",
        "df['Country'] = df['Country'].str.replace('Eucador','Ecuador')"
      ],
      "execution_count": 0,
      "outputs": []
    },
    {
      "cell_type": "code",
      "metadata": {
        "id": "QJcELtThX_sa",
        "colab_type": "code",
        "colab": {}
      },
      "source": [
        "# There are lots of different name format (abbreviation & special characters) in BeanOrigin\n",
        "# First let's remove all '.' in this column to make it easier to handle\n",
        "# Your code here\n",
        "df['BeanOrigin'] = df['BeanOrigin'].str.replace('.','')"
      ],
      "execution_count": 0,
      "outputs": []
    },
    {
      "cell_type": "code",
      "metadata": {
        "id": "_IGkgOMsdGWA",
        "colab_type": "code",
        "outputId": "3e93f775-f18b-4bfb-f050-93507e39dd39",
        "colab": {
          "base_uri": "https://localhost:8080/",
          "height": 532
        }
      },
      "source": [
        "df['BeanOrigin'].unique()"
      ],
      "execution_count": 0,
      "outputs": [
        {
          "output_type": "execute_result",
          "data": {
            "text/plain": [
              "array(['Sao Tome', 'Togo', 'Peru', 'Venezuela', 'Cuba', 'Panama',\n",
              "       'Madagascar', 'Brazil', 'Ecuador', 'Colombia', 'Burma',\n",
              "       'Papua New Guinea', 'Bolivia', 'Fiji', 'Mexico', 'Indonesia',\n",
              "       'Trinidad', 'Vietnam', 'Nicaragua', 'Tanzania',\n",
              "       'Dominican Republic', 'Ghana', 'Belize', '\\xa0', 'Jamaica',\n",
              "       'Grenada', 'Guatemala', 'Honduras', 'Costa Rica',\n",
              "       'Domincan Republic', 'Haiti', 'Congo', 'Philippines', 'Malaysia',\n",
              "       'Dominican Rep, Bali', 'Venez,Africa,Brasil,Peru,Mex', 'Gabon',\n",
              "       'Ivory Coast', 'Carribean', 'Sri Lanka', 'Puerto Rico', 'Uganda',\n",
              "       'Martinique', 'Sao Tome & Principe', 'Vanuatu', 'Australia',\n",
              "       'Liberia', 'Ecuador, Costa Rica', 'West Africa', 'Hawaii',\n",
              "       'St Lucia', 'Cost Rica, Ven', 'Peru, Madagascar',\n",
              "       'Venezuela, Trinidad', 'Trinidad, Tobago',\n",
              "       'Ven, Trinidad, Ecuador', 'South America, Africa', 'India',\n",
              "       'Africa, Carribean, C Am', 'Tobago', 'Ven, Indonesia, Ecuad',\n",
              "       'Trinidad-Tobago', 'Peru, Ecuador, Venezuela',\n",
              "       'Venezuela, Dom Rep', 'Colombia, Ecuador', 'Solomon Islands',\n",
              "       'Nigeria', 'Peru, Belize', 'Peru, Mad, Dom Rep',\n",
              "       'PNG, Vanuatu, Mad', 'El Salvador', 'South America', 'Samoa',\n",
              "       'Ghana, Domin Rep', 'Trinidad, Ecuador', 'Cameroon',\n",
              "       'Venezuela, Java', 'Venezuela/ Ghana', 'Venezuela, Ghana',\n",
              "       'Indonesia, Ghana', 'Peru(SMartin,Pangoa,nacional)', 'Principe',\n",
              "       'Central and S America', 'Ven, Trinidad, Mad',\n",
              "       'Carribean(DR/Jam/Tri)', 'Ghana & Madagascar', 'Ven,Ecu,Peru,Nic',\n",
              "       'Madagascar & Ecuador', 'Guat, DR, Peru, Mad, PNG',\n",
              "       'Peru, Dom Rep', 'Dom Rep, Madagascar',\n",
              "       'Gre, PNG, Haw, Haiti, Mad', 'Mad, Java, PNG', 'DR, Ecuador, Peru',\n",
              "       'Suriname', 'Peru, Ecuador', 'Ecuador, Mad, PNG',\n",
              "       'Ghana, Panama, Ecuador', 'Venezuela, Carribean'], dtype=object)"
            ]
          },
          "metadata": {
            "tags": []
          },
          "execution_count": 24
        }
      ]
    },
    {
      "cell_type": "code",
      "metadata": {
        "id": "Dg0qVy7nXsuv",
        "colab_type": "code",
        "colab": {}
      },
      "source": [
        "# Use the below pattern to replace  abbreviations / special characters in BeanOrigin\n",
        "# Each element in the list replacements contains a pair of value\n",
        "# First element of the pair is the text character to replace\n",
        "# Second element is the character to be replaced with\n",
        "\n",
        "replacements = [\n",
        "    ['-', ', '], ['/ ', ', '], ['/', ', '], ['\\(', ', '], [' and', ', '], [' &', ', '], ['\\)', ''],\n",
        "    ['Dom Rep|DR|Domin Rep|Dominican Rep,|Domincan Republic', 'Dominican Republic'],\n",
        "    ['Mad,|Mad$', 'Madagascar, '],\n",
        "    ['PNG', 'Papua New Guinea, '],\n",
        "    ['Guat,|Guat$', 'Guatemala, '],\n",
        "    ['Ven,|Ven$|Venez,|Venez$', 'Venezuela, '],\n",
        "    ['Ecu,|Ecu$|Ecuad,|Ecuad$', 'Ecuador, '],\n",
        "    ['Nic,|Nic$', 'Nicaragua, '],\n",
        "    ['Cost Rica', 'Costa Rica'],\n",
        "    ['Mex,|Mex$', 'Mexico, '],\n",
        "    ['Jam,|Jam$', 'Jamaica, '],\n",
        "    ['Haw,|Haw$', 'Hawaii, '],\n",
        "    ['Gre,|Gre$', 'Grenada, '],\n",
        "    ['Tri,|Tri$', 'Trinidad, '],\n",
        "    ['C Am', 'Central America'],\n",
        "    ['S America', 'South America'],\n",
        "    [', $', ''], [',  ', ', '], [', ,', ', '], ['\\xa0', ' '],[',\\s+', ','],\n",
        "    [' Bali', ',Bali']\n",
        "]\n",
        "\n",
        "# Your code here\n",
        "for pair in replacements:\n",
        "  df['BeanOrigin'] = df['BeanOrigin'].str.replace(pair[0], pair[1], regex = True)"
      ],
      "execution_count": 0,
      "outputs": []
    },
    {
      "cell_type": "code",
      "metadata": {
        "id": "9N5QnLcVWwXm",
        "colab_type": "code",
        "outputId": "bc701eef-618d-4782-eb73-410619db7698",
        "colab": {
          "base_uri": "https://localhost:8080/",
          "height": 248
        }
      },
      "source": [
        "# There are lots of blended chocolate bars i.e. those with multiple countries in BeanOrigin\n",
        "# What can we do to make col BeanOrigin more meaningful?\n",
        "# Your code here\n",
        "\n",
        "countries = {}\n",
        "\n",
        "def count_country(row):\n",
        "  country = row['BeanOrigin']\n",
        "  rating = row['Rating']\n",
        "\n",
        "  for c in country.split(','):\n",
        "    if c not in countries:\n",
        "      countries[c] = [1, rating]\n",
        "    else:\n",
        "      countries[c][0] += 1\n",
        "      countries[c][1] += rating\n",
        "\n",
        "  return None\n",
        "\n",
        "df.apply(count_country, axis = 1)\n",
        "\n",
        "\n",
        "bean_origin = pd.DataFrame(index = countries.keys(), data = countries.values(), columns = ['Freq.', 'Total Rating'])\n",
        "bean_origin['Avg. Rating'] = bean_origin['Total Rating'] / bean_origin['Freq.']\n",
        "bean_origin.index"
      ],
      "execution_count": 0,
      "outputs": [
        {
          "output_type": "execute_result",
          "data": {
            "text/plain": [
              "Index(['Sao Tome', 'Togo', 'Peru', 'Venezuela', 'Cuba', 'Panama', 'Madagascar',\n",
              "       'Brazil', 'Ecuador', 'Colombia', 'Burma', 'Papua New Guinea', 'Bolivia',\n",
              "       'Fiji', 'Mexico', 'Indonesia', 'Trinidad', 'Vietnam', 'Nicaragua',\n",
              "       'Tanzania', 'Dominican Republic', 'Ghana', 'Belize', ' ', 'Jamaica',\n",
              "       'Grenada', 'Guatemala', 'Honduras', 'Costa Rica', 'Haiti', 'Congo',\n",
              "       'Philippines', 'Malaysia', 'Bali', 'Africa', 'Brasil', 'Gabon',\n",
              "       'Ivory Coast', 'Carribean', 'Sri Lanka', 'Puerto Rico', 'Uganda',\n",
              "       'Martinique', 'Principe', 'Vanuatu', 'Australia', 'Liberia',\n",
              "       'West Africa', 'Hawaii', 'St Lucia', 'Tobago', 'South America', 'India',\n",
              "       'Central America', 'Solomon Islands', 'Nigeria', 'El Salvador', 'Samoa',\n",
              "       'Cameroon', 'Java', 'SMartin', 'Pangoa', 'nacional', 'Central',\n",
              "       'Suriname'],\n",
              "      dtype='object')"
            ]
          },
          "metadata": {
            "tags": []
          },
          "execution_count": 26
        }
      ]
    },
    {
      "cell_type": "markdown",
      "metadata": {
        "id": "fkFa-szBciWr",
        "colab_type": "text"
      },
      "source": [
        "### Adding new data"
      ]
    },
    {
      "cell_type": "code",
      "metadata": {
        "id": "ot7BSeIOclFJ",
        "colab_type": "code",
        "colab": {}
      },
      "source": [
        "# Add a new chococolat bar from Vietnam, with the Rating of 5.0 and CocoaPercentage of 75% to the end of the data\n",
        "# You can put in anything for the remaining columns\n",
        "# Your code here\n",
        "d = {'Maker':['TeeChoco'], 'BarName':['TeeBar'], 'REF':[1991], 'ReviewDate':[2020],\n",
        "     'CocoaPercentage':[0.75], 'Country':['VietNam'], 'Rating':[5.0],\n",
        "     'BeanType':['Coffee'], 'BeanOrigin':['HCMC']}\n",
        "\n",
        "new_row = pd.DataFrame(d)\n",
        "new_df = pd.concat([df, new_row]).reset_index(drop = True)"
      ],
      "execution_count": 0,
      "outputs": []
    },
    {
      "cell_type": "markdown",
      "metadata": {
        "id": "MNHLTTe_drnJ",
        "colab_type": "text"
      },
      "source": [
        "### Binning"
      ]
    },
    {
      "cell_type": "code",
      "metadata": {
        "id": "XicZ-cyVd1h3",
        "colab_type": "code",
        "outputId": "e0662146-2a17-4f4c-e89a-a0535384f9a1",
        "colab": {
          "base_uri": "https://localhost:8080/",
          "height": 106
        }
      },
      "source": [
        "# Divide the Chocolate Bar into 4 groups based on Rating: Terrible, Medium, Good, Excellent\n",
        "# Each group should have an approximately equal number of chocolate bar\n",
        "# Your code here\n",
        "df['RatingGroup'] = pd.qcut(df['Rating'], q = 4, labels = ['Terrible','Medium','Good','Excellent'])\n",
        "df['RatingGroup'].value_counts()"
      ],
      "execution_count": 0,
      "outputs": [
        {
          "output_type": "execute_result",
          "data": {
            "text/plain": [
              "Medium       644\n",
              "Terrible     449\n",
              "Good         392\n",
              "Excellent    309\n",
              "Name: RatingGroup, dtype: int64"
            ]
          },
          "metadata": {
            "tags": []
          },
          "execution_count": 28
        }
      ]
    },
    {
      "cell_type": "markdown",
      "metadata": {
        "id": "0V0iFaQ-1e9e",
        "colab_type": "text"
      },
      "source": [
        "## Data Exploration"
      ]
    },
    {
      "cell_type": "code",
      "metadata": {
        "id": "J6E2CY9k1nBn",
        "colab_type": "code",
        "colab": {}
      },
      "source": [
        "# Which country produce the best chocolate?\n",
        "# Your code here"
      ],
      "execution_count": 0,
      "outputs": []
    },
    {
      "cell_type": "code",
      "metadata": {
        "id": "mDnfM8D81p3O",
        "colab_type": "code",
        "colab": {}
      },
      "source": [
        "# Which Cocoa Percentage is the most favoured?\n",
        "# Your code here"
      ],
      "execution_count": 0,
      "outputs": []
    },
    {
      "cell_type": "code",
      "metadata": {
        "id": "YXfBjA5L1tD3",
        "colab_type": "code",
        "colab": {}
      },
      "source": [
        "# Which Bean Origin is most the most favoured?\n",
        "# Your code here"
      ],
      "execution_count": 0,
      "outputs": []
    },
    {
      "cell_type": "markdown",
      "metadata": {
        "id": "JIGRMOmMzQsD",
        "colab_type": "text"
      },
      "source": [
        "## Visualizing Geo Data"
      ]
    },
    {
      "cell_type": "code",
      "metadata": {
        "id": "DI7PwgMU2Qv-",
        "colab_type": "code",
        "outputId": "cf1404bd-769f-4190-9022-26496c0d4f27",
        "colab": {
          "base_uri": "https://localhost:8080/",
          "height": 1000
        }
      },
      "source": [
        "# Instal dependencies\n",
        "!pip install git+git://github.com/geopandas/geopandas.git\n",
        "!apt install proj-bin libproj-dev libgeos-dev\n",
        "!pip install git+git://github.com/ResidentMario/geoplot.git"
      ],
      "execution_count": 0,
      "outputs": [
        {
          "output_type": "stream",
          "text": [
            "Collecting git+git://github.com/geopandas/geopandas.git\n",
            "  Cloning git://github.com/geopandas/geopandas.git to /tmp/pip-req-build-a845p7wz\n",
            "  Running command git clone -q git://github.com/geopandas/geopandas.git /tmp/pip-req-build-a845p7wz\n",
            "Requirement already satisfied: pandas>=0.23.0 in /usr/local/lib/python3.6/dist-packages (from geopandas==0.7.0+15.g898dd86) (0.25.3)\n",
            "Requirement already satisfied: shapely in /usr/local/lib/python3.6/dist-packages (from geopandas==0.7.0+15.g898dd86) (1.7.0)\n",
            "Collecting fiona\n",
            "\u001b[?25l  Downloading https://files.pythonhosted.org/packages/ec/20/4e63bc5c6e62df889297b382c3ccd4a7a488b00946aaaf81a118158c6f09/Fiona-1.8.13.post1-cp36-cp36m-manylinux1_x86_64.whl (14.7MB)\n",
            "\u001b[K     |████████████████████████████████| 14.7MB 4.5MB/s \n",
            "\u001b[?25hCollecting pyproj>=2.2.0\n",
            "\u001b[?25l  Downloading https://files.pythonhosted.org/packages/ce/37/705ee471f71130d4ceee41bbcb06f3b52175cb89273cbb5755ed5e6374e0/pyproj-2.6.0-cp36-cp36m-manylinux2010_x86_64.whl (10.4MB)\n",
            "\u001b[K     |████████████████████████████████| 10.4MB 25.6MB/s \n",
            "\u001b[?25hRequirement already satisfied: pytz>=2017.2 in /usr/local/lib/python3.6/dist-packages (from pandas>=0.23.0->geopandas==0.7.0+15.g898dd86) (2018.9)\n",
            "Requirement already satisfied: python-dateutil>=2.6.1 in /usr/local/lib/python3.6/dist-packages (from pandas>=0.23.0->geopandas==0.7.0+15.g898dd86) (2.8.1)\n",
            "Requirement already satisfied: numpy>=1.13.3 in /usr/local/lib/python3.6/dist-packages (from pandas>=0.23.0->geopandas==0.7.0+15.g898dd86) (1.18.2)\n",
            "Requirement already satisfied: attrs>=17 in /usr/local/lib/python3.6/dist-packages (from fiona->geopandas==0.7.0+15.g898dd86) (19.3.0)\n",
            "Requirement already satisfied: six>=1.7 in /usr/local/lib/python3.6/dist-packages (from fiona->geopandas==0.7.0+15.g898dd86) (1.12.0)\n",
            "Collecting cligj>=0.5\n",
            "  Downloading https://files.pythonhosted.org/packages/e4/be/30a58b4b0733850280d01f8bd132591b4668ed5c7046761098d665ac2174/cligj-0.5.0-py3-none-any.whl\n",
            "Collecting click-plugins>=1.0\n",
            "  Downloading https://files.pythonhosted.org/packages/e9/da/824b92d9942f4e472702488857914bdd50f73021efea15b4cad9aca8ecef/click_plugins-1.1.1-py2.py3-none-any.whl\n",
            "Collecting munch\n",
            "  Downloading https://files.pythonhosted.org/packages/cc/ab/85d8da5c9a45e072301beb37ad7f833cd344e04c817d97e0cc75681d248f/munch-2.5.0-py2.py3-none-any.whl\n",
            "Requirement already satisfied: click<8,>=4.0 in /usr/local/lib/python3.6/dist-packages (from fiona->geopandas==0.7.0+15.g898dd86) (7.1.1)\n",
            "Building wheels for collected packages: geopandas\n",
            "  Building wheel for geopandas (setup.py) ... \u001b[?25l\u001b[?25hdone\n",
            "  Created wheel for geopandas: filename=geopandas-0.7.0+15.g898dd86-py2.py3-none-any.whl size=934329 sha256=d94df30d20c0f74187cc281feca8e7a9c04f6fe2657e55e3355f210d7bdd4a36\n",
            "  Stored in directory: /tmp/pip-ephem-wheel-cache-igbn9k05/wheels/91/24/71/376c9c67192694168352afcccc2d264248f7e2cc6192997186\n",
            "Successfully built geopandas\n",
            "Installing collected packages: cligj, click-plugins, munch, fiona, pyproj, geopandas\n",
            "Successfully installed click-plugins-1.1.1 cligj-0.5.0 fiona-1.8.13.post1 geopandas-0.7.0+15.g898dd86 munch-2.5.0 pyproj-2.6.0\n",
            "Reading package lists... Done\n",
            "Building dependency tree       \n",
            "Reading state information... Done\n",
            "Suggested packages:\n",
            "  libgdal-doc\n",
            "The following NEW packages will be installed:\n",
            "  libgeos-dev libproj-dev proj-bin\n",
            "0 upgraded, 3 newly installed, 0 to remove and 25 not upgraded.\n",
            "Need to get 305 kB of archives.\n",
            "After this operation, 1,706 kB of additional disk space will be used.\n",
            "Get:1 http://archive.ubuntu.com/ubuntu bionic/universe amd64 libgeos-dev amd64 3.6.2-1build2 [73.1 kB]\n",
            "Get:2 http://archive.ubuntu.com/ubuntu bionic/universe amd64 libproj-dev amd64 4.9.3-2 [199 kB]\n",
            "Get:3 http://archive.ubuntu.com/ubuntu bionic/universe amd64 proj-bin amd64 4.9.3-2 [32.3 kB]\n",
            "Fetched 305 kB in 1s (265 kB/s)\n",
            "Selecting previously unselected package libgeos-dev.\n",
            "(Reading database ... 133872 files and directories currently installed.)\n",
            "Preparing to unpack .../libgeos-dev_3.6.2-1build2_amd64.deb ...\n",
            "Unpacking libgeos-dev (3.6.2-1build2) ...\n",
            "Selecting previously unselected package libproj-dev:amd64.\n",
            "Preparing to unpack .../libproj-dev_4.9.3-2_amd64.deb ...\n",
            "Unpacking libproj-dev:amd64 (4.9.3-2) ...\n",
            "Selecting previously unselected package proj-bin.\n",
            "Preparing to unpack .../proj-bin_4.9.3-2_amd64.deb ...\n",
            "Unpacking proj-bin (4.9.3-2) ...\n",
            "Setting up libproj-dev:amd64 (4.9.3-2) ...\n",
            "Setting up libgeos-dev (3.6.2-1build2) ...\n",
            "Setting up proj-bin (4.9.3-2) ...\n",
            "Processing triggers for man-db (2.8.3-2ubuntu0.1) ...\n",
            "Collecting git+git://github.com/ResidentMario/geoplot.git\n",
            "  Cloning git://github.com/ResidentMario/geoplot.git to /tmp/pip-req-build-qrsz1r2y\n",
            "  Running command git clone -q git://github.com/ResidentMario/geoplot.git /tmp/pip-req-build-qrsz1r2y\n",
            "Requirement already satisfied: matplotlib in /usr/local/lib/python3.6/dist-packages (from geoplot==0.4.0) (3.2.1)\n",
            "Requirement already satisfied: seaborn in /usr/local/lib/python3.6/dist-packages (from geoplot==0.4.0) (0.10.0)\n",
            "Requirement already satisfied: pandas in /usr/local/lib/python3.6/dist-packages (from geoplot==0.4.0) (0.25.3)\n",
            "Requirement already satisfied: geopandas in /usr/local/lib/python3.6/dist-packages (from geoplot==0.4.0) (0.7.0+15.g898dd86)\n",
            "Collecting cartopy\n",
            "\u001b[?25l  Downloading https://files.pythonhosted.org/packages/e5/92/fe8838fa8158931906dfc4f16c5c1436b3dd2daf83592645b179581403ad/Cartopy-0.17.0.tar.gz (8.9MB)\n",
            "\u001b[K     |████████████████████████████████| 8.9MB 3.9MB/s \n",
            "\u001b[?25h  Installing build dependencies ... \u001b[?25l\u001b[?25hdone\n",
            "  Getting requirements to build wheel ... \u001b[?25l\u001b[?25hdone\n",
            "    Preparing wheel metadata ... \u001b[?25l\u001b[?25hdone\n",
            "Requirement already satisfied: descartes in /usr/local/lib/python3.6/dist-packages (from geoplot==0.4.0) (1.1.0)\n",
            "Collecting mapclassify>=2.1\n",
            "\u001b[?25l  Downloading https://files.pythonhosted.org/packages/91/b5/6b54f40901d89f2ce30cf2d8110dd57658db3e95db79baba6706d7588691/mapclassify-2.2.0.tar.gz (47kB)\n",
            "\u001b[K     |████████████████████████████████| 51kB 7.1MB/s \n",
            "\u001b[?25hCollecting contextily>=1.0rc2\n",
            "  Downloading https://files.pythonhosted.org/packages/bb/e0/fd2f860ac34c97c1370514a1fa37d33c46dca5bea8a6f49dc167fbffbc1f/contextily-1.0rc2-py3-none-any.whl\n",
            "Requirement already satisfied: pyparsing!=2.0.4,!=2.1.2,!=2.1.6,>=2.0.1 in /usr/local/lib/python3.6/dist-packages (from matplotlib->geoplot==0.4.0) (2.4.6)\n",
            "Requirement already satisfied: kiwisolver>=1.0.1 in /usr/local/lib/python3.6/dist-packages (from matplotlib->geoplot==0.4.0) (1.1.0)\n",
            "Requirement already satisfied: python-dateutil>=2.1 in /usr/local/lib/python3.6/dist-packages (from matplotlib->geoplot==0.4.0) (2.8.1)\n",
            "Requirement already satisfied: numpy>=1.11 in /usr/local/lib/python3.6/dist-packages (from matplotlib->geoplot==0.4.0) (1.18.2)\n",
            "Requirement already satisfied: cycler>=0.10 in /usr/local/lib/python3.6/dist-packages (from matplotlib->geoplot==0.4.0) (0.10.0)\n",
            "Requirement already satisfied: scipy>=1.0.1 in /usr/local/lib/python3.6/dist-packages (from seaborn->geoplot==0.4.0) (1.4.1)\n",
            "Requirement already satisfied: pytz>=2017.2 in /usr/local/lib/python3.6/dist-packages (from pandas->geoplot==0.4.0) (2018.9)\n",
            "Requirement already satisfied: shapely in /usr/local/lib/python3.6/dist-packages (from geopandas->geoplot==0.4.0) (1.7.0)\n",
            "Requirement already satisfied: fiona in /usr/local/lib/python3.6/dist-packages (from geopandas->geoplot==0.4.0) (1.8.13.post1)\n",
            "Requirement already satisfied: pyproj>=2.2.0 in /usr/local/lib/python3.6/dist-packages (from geopandas->geoplot==0.4.0) (2.6.0)\n",
            "Collecting pyshp>=1.1.4\n",
            "\u001b[?25l  Downloading https://files.pythonhosted.org/packages/27/16/3bf15aa864fb77845fab8007eda22c2bd67bd6c1fd13496df452c8c43621/pyshp-2.1.0.tar.gz (215kB)\n",
            "\u001b[K     |████████████████████████████████| 225kB 43.2MB/s \n",
            "\u001b[?25hRequirement already satisfied: six>=1.3.0 in /usr/local/lib/python3.6/dist-packages (from cartopy->geoplot==0.4.0) (1.12.0)\n",
            "Requirement already satisfied: setuptools>=0.7.2 in /usr/local/lib/python3.6/dist-packages (from cartopy->geoplot==0.4.0) (46.0.0)\n",
            "Requirement already satisfied: scikit-learn in /usr/local/lib/python3.6/dist-packages (from mapclassify>=2.1->geoplot==0.4.0) (0.22.2.post1)\n",
            "Collecting deprecated\n",
            "  Downloading https://files.pythonhosted.org/packages/f6/89/62912e01f3cede11edcc0abf81298e3439d9c06c8dce644369380ed13f6d/Deprecated-1.2.7-py2.py3-none-any.whl\n",
            "Collecting mercantile\n",
            "  Downloading https://files.pythonhosted.org/packages/9d/1d/80d28ba17e4647bf820e8d5f485d58f9da9c5ca424450489eb49e325ba66/mercantile-1.1.2-py3-none-any.whl\n",
            "Requirement already satisfied: pillow in /usr/local/lib/python3.6/dist-packages (from contextily>=1.0rc2->geoplot==0.4.0) (7.0.0)\n",
            "Requirement already satisfied: joblib in /usr/local/lib/python3.6/dist-packages (from contextily>=1.0rc2->geoplot==0.4.0) (0.14.1)\n",
            "Collecting rasterio\n",
            "\u001b[?25l  Downloading https://files.pythonhosted.org/packages/c7/81/13321f88f582a00705c5f348724728e8999136e19d6e7c56f7e6ac9bb7f9/rasterio-1.1.3-cp36-cp36m-manylinux1_x86_64.whl (18.1MB)\n",
            "\u001b[K     |████████████████████████████████| 18.1MB 236kB/s \n",
            "\u001b[?25hRequirement already satisfied: requests in /usr/local/lib/python3.6/dist-packages (from contextily>=1.0rc2->geoplot==0.4.0) (2.21.0)\n",
            "Requirement already satisfied: geopy in /usr/local/lib/python3.6/dist-packages (from contextily>=1.0rc2->geoplot==0.4.0) (1.17.0)\n",
            "Requirement already satisfied: click-plugins>=1.0 in /usr/local/lib/python3.6/dist-packages (from fiona->geopandas->geoplot==0.4.0) (1.1.1)\n",
            "Requirement already satisfied: cligj>=0.5 in /usr/local/lib/python3.6/dist-packages (from fiona->geopandas->geoplot==0.4.0) (0.5.0)\n",
            "Requirement already satisfied: click<8,>=4.0 in /usr/local/lib/python3.6/dist-packages (from fiona->geopandas->geoplot==0.4.0) (7.1.1)\n",
            "Requirement already satisfied: attrs>=17 in /usr/local/lib/python3.6/dist-packages (from fiona->geopandas->geoplot==0.4.0) (19.3.0)\n",
            "Requirement already satisfied: munch in /usr/local/lib/python3.6/dist-packages (from fiona->geopandas->geoplot==0.4.0) (2.5.0)\n",
            "Requirement already satisfied: wrapt<2,>=1.10 in /usr/local/lib/python3.6/dist-packages (from deprecated->mapclassify>=2.1->geoplot==0.4.0) (1.12.1)\n",
            "Collecting snuggs>=1.4.1\n",
            "  Downloading https://files.pythonhosted.org/packages/cc/0e/d27d6e806d6c0d1a2cfdc5d1f088e42339a0a54a09c3343f7f81ec8947ea/snuggs-1.4.7-py3-none-any.whl\n",
            "Collecting affine\n",
            "  Downloading https://files.pythonhosted.org/packages/ac/a6/1a39a1ede71210e3ddaf623982b06ecfc5c5c03741ae659073159184cd3e/affine-2.3.0-py2.py3-none-any.whl\n",
            "Requirement already satisfied: certifi>=2017.4.17 in /usr/local/lib/python3.6/dist-packages (from requests->contextily>=1.0rc2->geoplot==0.4.0) (2019.11.28)\n",
            "Requirement already satisfied: urllib3<1.25,>=1.21.1 in /usr/local/lib/python3.6/dist-packages (from requests->contextily>=1.0rc2->geoplot==0.4.0) (1.24.3)\n",
            "Requirement already satisfied: idna<2.9,>=2.5 in /usr/local/lib/python3.6/dist-packages (from requests->contextily>=1.0rc2->geoplot==0.4.0) (2.8)\n",
            "Requirement already satisfied: chardet<3.1.0,>=3.0.2 in /usr/local/lib/python3.6/dist-packages (from requests->contextily>=1.0rc2->geoplot==0.4.0) (3.0.4)\n",
            "Requirement already satisfied: geographiclib<2,>=1.49 in /usr/local/lib/python3.6/dist-packages (from geopy->contextily>=1.0rc2->geoplot==0.4.0) (1.50)\n",
            "Building wheels for collected packages: cartopy\n",
            "  Building wheel for cartopy (PEP 517) ... \u001b[?25l\u001b[?25hdone\n",
            "  Created wheel for cartopy: filename=Cartopy-0.17.0-cp36-cp36m-linux_x86_64.whl size=9713621 sha256=eb146476b0a0bdc662b5a0a8a26bdfeba497578fc0f9ca192c75ea262555a5b8\n",
            "  Stored in directory: /root/.cache/pip/wheels/cd/cf/40/539f798f94e921e94fd376a5f9d213a6febe77754c0b187c73\n",
            "Successfully built cartopy\n",
            "Building wheels for collected packages: geoplot, mapclassify, pyshp\n",
            "  Building wheel for geoplot (setup.py) ... \u001b[?25l\u001b[?25hdone\n",
            "  Created wheel for geoplot: filename=geoplot-0.4.0-cp36-none-any.whl size=28872 sha256=865ad38cf3004796fe89a01d104b475bb011f24873761eff5e0c1b7f424fe80b\n",
            "  Stored in directory: /tmp/pip-ephem-wheel-cache-kua1km2x/wheels/23/2b/70/23c7ff87a338a1067df091ca0302d247c166e294df4392b5a3\n",
            "  Building wheel for mapclassify (setup.py) ... \u001b[?25l\u001b[?25hdone\n",
            "  Created wheel for mapclassify: filename=mapclassify-2.2.0-cp36-none-any.whl size=47028 sha256=ece9a67faa81f2d1183071048bc9174452293be02715c7136b77a90701085fb3\n",
            "  Stored in directory: /root/.cache/pip/wheels/96/0c/c1/b2bce9fc10da2e6c6befc9fe5929adca7c71b7c4abd1fc42f0\n",
            "  Building wheel for pyshp (setup.py) ... \u001b[?25l\u001b[?25hdone\n",
            "  Created wheel for pyshp: filename=pyshp-2.1.0-cp36-none-any.whl size=32609 sha256=ea1779a8b311b0bfdee201bcccf58163c2c740dd41149b8f4d061cd422890d03\n",
            "  Stored in directory: /root/.cache/pip/wheels/a6/0c/de/321b5192ad416b328975a2f0385f72c64db4656501eba7cc1a\n",
            "Successfully built geoplot mapclassify pyshp\n",
            "Installing collected packages: pyshp, cartopy, deprecated, mapclassify, mercantile, snuggs, affine, rasterio, contextily, geoplot\n",
            "Successfully installed affine-2.3.0 cartopy-0.17.0 contextily-1.0rc2 deprecated-1.2.7 geoplot-0.4.0 mapclassify-2.2.0 mercantile-1.1.2 pyshp-2.1.0 rasterio-1.1.3 snuggs-1.4.7\n"
          ],
          "name": "stdout"
        }
      ]
    },
    {
      "cell_type": "code",
      "metadata": {
        "id": "lM3I0o7d2XCa",
        "colab_type": "code",
        "colab": {}
      },
      "source": [
        "# Import libraries\n",
        "import geopandas as gpd\n",
        "import geoplot as gplt"
      ],
      "execution_count": 0,
      "outputs": []
    },
    {
      "cell_type": "code",
      "metadata": {
        "id": "W_LqCdZOIg7M",
        "colab_type": "code",
        "colab": {}
      },
      "source": [
        "# Import Geo Data\n",
        "geo_data = gpd.read_file('/content/drive/My Drive/FTMLE - Tonga/Data/geo_data/ne_10m_admin_0_countries.shp')"
      ],
      "execution_count": 0,
      "outputs": []
    },
    {
      "cell_type": "code",
      "metadata": {
        "id": "hNb4XOEb2ctl",
        "colab_type": "code",
        "colab": {}
      },
      "source": [
        "# Select only relavant data i.e. Country & geometry\n",
        "# geo_data = geo_data[['SOVEREIGNT', 'geometry']]\n",
        "geo_data = geo_data[geo_data['CONTINENT'] == 'South America'][['SOVEREIGNT', 'geometry']]\n",
        "geo_data.columns = ['country', 'geometry']"
      ],
      "execution_count": 0,
      "outputs": []
    },
    {
      "cell_type": "code",
      "metadata": {
        "id": "UXD9J3V-rDuE",
        "colab_type": "code",
        "outputId": "60bd798c-ffa0-4f20-ba41-8fcb429a1a78",
        "colab": {
          "base_uri": "https://localhost:8080/",
          "height": 428
        }
      },
      "source": [
        "geo_data"
      ],
      "execution_count": 0,
      "outputs": [
        {
          "output_type": "execute_result",
          "data": {
            "text/html": [
              "<div>\n",
              "<style scoped>\n",
              "    .dataframe tbody tr th:only-of-type {\n",
              "        vertical-align: middle;\n",
              "    }\n",
              "\n",
              "    .dataframe tbody tr th {\n",
              "        vertical-align: top;\n",
              "    }\n",
              "\n",
              "    .dataframe thead th {\n",
              "        text-align: right;\n",
              "    }\n",
              "</style>\n",
              "<table border=\"1\" class=\"dataframe\">\n",
              "  <thead>\n",
              "    <tr style=\"text-align: right;\">\n",
              "      <th></th>\n",
              "      <th>country</th>\n",
              "      <th>geometry</th>\n",
              "    </tr>\n",
              "  </thead>\n",
              "  <tbody>\n",
              "    <tr>\n",
              "      <th>2</th>\n",
              "      <td>Chile</td>\n",
              "      <td>MULTIPOLYGON (((-69.51009 -17.50659, -69.50611...</td>\n",
              "    </tr>\n",
              "    <tr>\n",
              "      <th>3</th>\n",
              "      <td>Bolivia</td>\n",
              "      <td>POLYGON ((-69.51009 -17.50659, -69.51009 -17.5...</td>\n",
              "    </tr>\n",
              "    <tr>\n",
              "      <th>4</th>\n",
              "      <td>Peru</td>\n",
              "      <td>MULTIPOLYGON (((-69.51009 -17.50659, -69.63832...</td>\n",
              "    </tr>\n",
              "    <tr>\n",
              "      <th>5</th>\n",
              "      <td>Argentina</td>\n",
              "      <td>MULTIPOLYGON (((-67.28475 -23.83414, -67.25133...</td>\n",
              "    </tr>\n",
              "    <tr>\n",
              "      <th>23</th>\n",
              "      <td>Suriname</td>\n",
              "      <td>POLYGON ((-54.08080 3.30931, -54.11429 3.28538...</td>\n",
              "    </tr>\n",
              "    <tr>\n",
              "      <th>24</th>\n",
              "      <td>Guyana</td>\n",
              "      <td>MULTIPOLYGON (((-56.48182 1.94161, -56.52851 1...</td>\n",
              "    </tr>\n",
              "    <tr>\n",
              "      <th>45</th>\n",
              "      <td>Brazil</td>\n",
              "      <td>MULTIPOLYGON (((-57.61170 -30.18296, -57.56865...</td>\n",
              "    </tr>\n",
              "    <tr>\n",
              "      <th>46</th>\n",
              "      <td>Uruguay</td>\n",
              "      <td>POLYGON ((-53.37909 -33.74068, -53.39635 -33.7...</td>\n",
              "    </tr>\n",
              "    <tr>\n",
              "      <th>136</th>\n",
              "      <td>Ecuador</td>\n",
              "      <td>MULTIPOLYGON (((-78.82868 1.43431, -78.76997 1...</td>\n",
              "    </tr>\n",
              "    <tr>\n",
              "      <th>137</th>\n",
              "      <td>Colombia</td>\n",
              "      <td>MULTIPOLYGON (((-78.82868 1.43431, -78.81286 1...</td>\n",
              "    </tr>\n",
              "    <tr>\n",
              "      <th>138</th>\n",
              "      <td>Paraguay</td>\n",
              "      <td>POLYGON ((-62.65036 -22.23446, -62.62752 -22.1...</td>\n",
              "    </tr>\n",
              "    <tr>\n",
              "      <th>158</th>\n",
              "      <td>Venezuela</td>\n",
              "      <td>MULTIPOLYGON (((-60.02099 8.55801, -59.95969 8...</td>\n",
              "    </tr>\n",
              "    <tr>\n",
              "      <th>239</th>\n",
              "      <td>United Kingdom</td>\n",
              "      <td>MULTIPOLYGON (((-59.69445 -52.20810, -59.67687...</td>\n",
              "    </tr>\n",
              "  </tbody>\n",
              "</table>\n",
              "</div>"
            ],
            "text/plain": [
              "            country                                           geometry\n",
              "2             Chile  MULTIPOLYGON (((-69.51009 -17.50659, -69.50611...\n",
              "3           Bolivia  POLYGON ((-69.51009 -17.50659, -69.51009 -17.5...\n",
              "4              Peru  MULTIPOLYGON (((-69.51009 -17.50659, -69.63832...\n",
              "5         Argentina  MULTIPOLYGON (((-67.28475 -23.83414, -67.25133...\n",
              "23         Suriname  POLYGON ((-54.08080 3.30931, -54.11429 3.28538...\n",
              "24           Guyana  MULTIPOLYGON (((-56.48182 1.94161, -56.52851 1...\n",
              "45           Brazil  MULTIPOLYGON (((-57.61170 -30.18296, -57.56865...\n",
              "46          Uruguay  POLYGON ((-53.37909 -33.74068, -53.39635 -33.7...\n",
              "136         Ecuador  MULTIPOLYGON (((-78.82868 1.43431, -78.76997 1...\n",
              "137        Colombia  MULTIPOLYGON (((-78.82868 1.43431, -78.81286 1...\n",
              "138        Paraguay  POLYGON ((-62.65036 -22.23446, -62.62752 -22.1...\n",
              "158       Venezuela  MULTIPOLYGON (((-60.02099 8.55801, -59.95969 8...\n",
              "239  United Kingdom  MULTIPOLYGON (((-59.69445 -52.20810, -59.67687..."
            ]
          },
          "metadata": {
            "tags": []
          },
          "execution_count": 37
        }
      ]
    },
    {
      "cell_type": "code",
      "metadata": {
        "id": "H1okIL3Fr20y",
        "colab_type": "code",
        "outputId": "f5fc04d3-1b9e-4efe-d03b-18cab527f87e",
        "colab": {
          "base_uri": "https://localhost:8080/",
          "height": 340
        }
      },
      "source": [
        "df.sample(10)"
      ],
      "execution_count": 0,
      "outputs": [
        {
          "output_type": "execute_result",
          "data": {
            "text/html": [
              "<div>\n",
              "<style scoped>\n",
              "    .dataframe tbody tr th:only-of-type {\n",
              "        vertical-align: middle;\n",
              "    }\n",
              "\n",
              "    .dataframe tbody tr th {\n",
              "        vertical-align: top;\n",
              "    }\n",
              "\n",
              "    .dataframe thead th {\n",
              "        text-align: right;\n",
              "    }\n",
              "</style>\n",
              "<table border=\"1\" class=\"dataframe\">\n",
              "  <thead>\n",
              "    <tr style=\"text-align: right;\">\n",
              "      <th></th>\n",
              "      <th>Maker</th>\n",
              "      <th>BarName</th>\n",
              "      <th>REF</th>\n",
              "      <th>ReviewDate</th>\n",
              "      <th>CocoaPercentage</th>\n",
              "      <th>Country</th>\n",
              "      <th>Rating</th>\n",
              "      <th>BeanType</th>\n",
              "      <th>BeanOrigin</th>\n",
              "      <th>RatingGroup</th>\n",
              "    </tr>\n",
              "  </thead>\n",
              "  <tbody>\n",
              "    <tr>\n",
              "      <th>1670</th>\n",
              "      <td>twenty-four blackbirds</td>\n",
              "      <td>Cedeno, lot 271</td>\n",
              "      <td>1700</td>\n",
              "      <td>2015</td>\n",
              "      <td>0.75</td>\n",
              "      <td>U.S.A.</td>\n",
              "      <td>3.50</td>\n",
              "      <td>No Record</td>\n",
              "      <td>Ecuador</td>\n",
              "      <td>Good</td>\n",
              "    </tr>\n",
              "    <tr>\n",
              "      <th>1330</th>\n",
              "      <td>Pralus</td>\n",
              "      <td>Jamaique</td>\n",
              "      <td>32</td>\n",
              "      <td>2006</td>\n",
              "      <td>0.75</td>\n",
              "      <td>France</td>\n",
              "      <td>4.00</td>\n",
              "      <td>Trinitario</td>\n",
              "      <td>Jamaica</td>\n",
              "      <td>Excellent</td>\n",
              "    </tr>\n",
              "    <tr>\n",
              "      <th>1766</th>\n",
              "      <td>Zak's</td>\n",
              "      <td>House Blend, Batch 2</td>\n",
              "      <td>1582</td>\n",
              "      <td>2015</td>\n",
              "      <td>0.60</td>\n",
              "      <td>U.S.A.</td>\n",
              "      <td>3.00</td>\n",
              "      <td>No Record</td>\n",
              "      <td></td>\n",
              "      <td>Medium</td>\n",
              "    </tr>\n",
              "    <tr>\n",
              "      <th>1481</th>\n",
              "      <td>Smooth Chocolator, The</td>\n",
              "      <td>Australia</td>\n",
              "      <td>1864</td>\n",
              "      <td>2016</td>\n",
              "      <td>0.67</td>\n",
              "      <td>Australia</td>\n",
              "      <td>3.75</td>\n",
              "      <td>No Record</td>\n",
              "      <td>Australia</td>\n",
              "      <td>Excellent</td>\n",
              "    </tr>\n",
              "    <tr>\n",
              "      <th>1166</th>\n",
              "      <td>Na�ve</td>\n",
              "      <td>Chuao</td>\n",
              "      <td>1399</td>\n",
              "      <td>2014</td>\n",
              "      <td>0.75</td>\n",
              "      <td>Lithuania</td>\n",
              "      <td>2.75</td>\n",
              "      <td>Trinitario</td>\n",
              "      <td>Venezuela</td>\n",
              "      <td>Terrible</td>\n",
              "    </tr>\n",
              "    <tr>\n",
              "      <th>1615</th>\n",
              "      <td>Tablette (aka Vanillabeans)</td>\n",
              "      <td>Vietnam</td>\n",
              "      <td>1450</td>\n",
              "      <td>2015</td>\n",
              "      <td>0.60</td>\n",
              "      <td>Japan</td>\n",
              "      <td>3.25</td>\n",
              "      <td>Trinitario</td>\n",
              "      <td>Vietnam</td>\n",
              "      <td>Medium</td>\n",
              "    </tr>\n",
              "    <tr>\n",
              "      <th>1036</th>\n",
              "      <td>Map Chocolate</td>\n",
              "      <td>ROIG, 2014</td>\n",
              "      <td>1474</td>\n",
              "      <td>2015</td>\n",
              "      <td>0.70</td>\n",
              "      <td>U.S.A.</td>\n",
              "      <td>3.50</td>\n",
              "      <td>Criollo, Trinitario</td>\n",
              "      <td>Dominican Republic</td>\n",
              "      <td>Good</td>\n",
              "    </tr>\n",
              "    <tr>\n",
              "      <th>275</th>\n",
              "      <td>Burnt Fork Bend</td>\n",
              "      <td>Mindo</td>\n",
              "      <td>1299</td>\n",
              "      <td>2014</td>\n",
              "      <td>0.72</td>\n",
              "      <td>U.S.A.</td>\n",
              "      <td>3.50</td>\n",
              "      <td>No Record</td>\n",
              "      <td>Ecuador</td>\n",
              "      <td>Good</td>\n",
              "    </tr>\n",
              "    <tr>\n",
              "      <th>863</th>\n",
              "      <td>Idilio (Felchlin)</td>\n",
              "      <td>Carenero Superior, Urrutia, Barlovento</td>\n",
              "      <td>737</td>\n",
              "      <td>2011</td>\n",
              "      <td>0.70</td>\n",
              "      <td>Switzerland</td>\n",
              "      <td>4.00</td>\n",
              "      <td>Trinitario</td>\n",
              "      <td>Venezuela</td>\n",
              "      <td>Excellent</td>\n",
              "    </tr>\n",
              "    <tr>\n",
              "      <th>560</th>\n",
              "      <td>Domori</td>\n",
              "      <td>Canoabo, Hacienda San Jose</td>\n",
              "      <td>693</td>\n",
              "      <td>2011</td>\n",
              "      <td>0.70</td>\n",
              "      <td>Italy</td>\n",
              "      <td>3.50</td>\n",
              "      <td>Criollo</td>\n",
              "      <td>Venezuela</td>\n",
              "      <td>Good</td>\n",
              "    </tr>\n",
              "  </tbody>\n",
              "</table>\n",
              "</div>"
            ],
            "text/plain": [
              "                            Maker  ... RatingGroup\n",
              "1670       twenty-four blackbirds  ...        Good\n",
              "1330                       Pralus  ...   Excellent\n",
              "1766                        Zak's  ...      Medium\n",
              "1481       Smooth Chocolator, The  ...   Excellent\n",
              "1166                        Na�ve  ...    Terrible\n",
              "1615  Tablette (aka Vanillabeans)  ...      Medium\n",
              "1036                Map Chocolate  ...        Good\n",
              "275               Burnt Fork Bend  ...        Good\n",
              "863             Idilio (Felchlin)  ...   Excellent\n",
              "560                        Domori  ...        Good\n",
              "\n",
              "[10 rows x 10 columns]"
            ]
          },
          "metadata": {
            "tags": []
          },
          "execution_count": 38
        }
      ]
    },
    {
      "cell_type": "code",
      "metadata": {
        "id": "RDJKiSwhI7_Z",
        "colab_type": "code",
        "outputId": "1a4df2c9-9470-4b50-c654-dd35a9a2a3f6",
        "colab": {
          "base_uri": "https://localhost:8080/",
          "height": 888
        }
      },
      "source": [
        "# Make sure that the Country columns in two datasets are matching\n",
        "for c in df['Country'].value_counts().index:\n",
        "  if c not in geo_data['country'].value_counts().index:\n",
        "    print(c)"
      ],
      "execution_count": 0,
      "outputs": [
        {
          "output_type": "stream",
          "text": [
            "U.S.A.\n",
            "France\n",
            "Canada\n",
            "U.K.\n",
            "Italy\n",
            "Australia\n",
            "Belgium\n",
            "Switzerland\n",
            "Germany\n",
            "Austria\n",
            "Spain\n",
            "Hungary\n",
            "Madagascar\n",
            "New Zealand\n",
            "Japan\n",
            "Denmark\n",
            "Vietnam\n",
            "Scotland\n",
            "Guatemala\n",
            "Costa Rica\n",
            "Israel\n",
            "Poland\n",
            "Nicaragua\n",
            "Lithuania\n",
            "Honduras\n",
            "Domincan Republic\n",
            "Sweden\n",
            "South Korea\n",
            "Fiji\n",
            "Mexico\n",
            "Netherlands\n",
            "Sao Tome\n",
            "Ireland\n",
            "Amsterdam\n",
            "Puerto Rico\n",
            "South Africa\n",
            "Singapore\n",
            "Grenada\n",
            "Portugal\n",
            "Iceland\n",
            "St. Lucia\n",
            "Finland\n",
            "Czech Republic\n",
            "Russia\n",
            "Ghana\n",
            "Wales\n",
            "India\n",
            "Philippines\n",
            "Martinique\n"
          ],
          "name": "stdout"
        }
      ]
    },
    {
      "cell_type": "code",
      "metadata": {
        "id": "rr9LKX8pJtu2",
        "colab_type": "code",
        "colab": {}
      },
      "source": [
        "# Replace unmatched values\n",
        "replace_country = {'U.S.A.': 'United States of America',\n",
        "                   'U.K.': 'United Kingdom',\n",
        "                   'Scotland': 'United Kingdom',\n",
        "                   'Domincan Republic': 'Dominican Republic',\n",
        "                   'Puerto Rico': 'United States of America',\n",
        "                   'Amsterdam': 'Netherlands',\n",
        "                   'Sao Tome': 'São Tomé and Principe',\n",
        "                   'St. Lucia': 'Saint Lucia',\n",
        "                   'Czech Republic': 'Czechia',\n",
        "                   'Wales': 'United Kingdom',\n",
        "                   'Martinique': 'France'}\n",
        "\n",
        "df['Country'].replace(replace_country, inplace = True)"
      ],
      "execution_count": 0,
      "outputs": []
    },
    {
      "cell_type": "code",
      "metadata": {
        "id": "_IKIW7yU7J3-",
        "colab_type": "code",
        "outputId": "75d49df9-46df-4413-9002-c41055a17cfb",
        "colab": {
          "base_uri": "https://localhost:8080/",
          "height": 1000
        }
      },
      "source": [
        "# Aggregate the data to analyze\n",
        "plot_data = df.groupby('Country')[['Rating']].mean()\n",
        "plot_data"
      ],
      "execution_count": 0,
      "outputs": [
        {
          "output_type": "execute_result",
          "data": {
            "text/html": [
              "<div>\n",
              "<style scoped>\n",
              "    .dataframe tbody tr th:only-of-type {\n",
              "        vertical-align: middle;\n",
              "    }\n",
              "\n",
              "    .dataframe tbody tr th {\n",
              "        vertical-align: top;\n",
              "    }\n",
              "\n",
              "    .dataframe thead th {\n",
              "        text-align: right;\n",
              "    }\n",
              "</style>\n",
              "<table border=\"1\" class=\"dataframe\">\n",
              "  <thead>\n",
              "    <tr style=\"text-align: right;\">\n",
              "      <th></th>\n",
              "      <th>Rating</th>\n",
              "    </tr>\n",
              "    <tr>\n",
              "      <th>Country</th>\n",
              "      <th></th>\n",
              "    </tr>\n",
              "  </thead>\n",
              "  <tbody>\n",
              "    <tr>\n",
              "      <th>Argentina</th>\n",
              "      <td>3.305556</td>\n",
              "    </tr>\n",
              "    <tr>\n",
              "      <th>Australia</th>\n",
              "      <td>3.357143</td>\n",
              "    </tr>\n",
              "    <tr>\n",
              "      <th>Austria</th>\n",
              "      <td>3.240385</td>\n",
              "    </tr>\n",
              "    <tr>\n",
              "      <th>Belgium</th>\n",
              "      <td>3.093750</td>\n",
              "    </tr>\n",
              "    <tr>\n",
              "      <th>Bolivia</th>\n",
              "      <td>3.250000</td>\n",
              "    </tr>\n",
              "    <tr>\n",
              "      <th>Brazil</th>\n",
              "      <td>3.397059</td>\n",
              "    </tr>\n",
              "    <tr>\n",
              "      <th>Canada</th>\n",
              "      <td>3.318548</td>\n",
              "    </tr>\n",
              "    <tr>\n",
              "      <th>Chile</th>\n",
              "      <td>3.750000</td>\n",
              "    </tr>\n",
              "    <tr>\n",
              "      <th>Colombia</th>\n",
              "      <td>3.173913</td>\n",
              "    </tr>\n",
              "    <tr>\n",
              "      <th>Costa Rica</th>\n",
              "      <td>3.138889</td>\n",
              "    </tr>\n",
              "    <tr>\n",
              "      <th>Czechia</th>\n",
              "      <td>2.750000</td>\n",
              "    </tr>\n",
              "    <tr>\n",
              "      <th>Denmark</th>\n",
              "      <td>3.283333</td>\n",
              "    </tr>\n",
              "    <tr>\n",
              "      <th>Dominican Republic</th>\n",
              "      <td>3.200000</td>\n",
              "    </tr>\n",
              "    <tr>\n",
              "      <th>Ecuador</th>\n",
              "      <td>3.009091</td>\n",
              "    </tr>\n",
              "    <tr>\n",
              "      <th>Fiji</th>\n",
              "      <td>3.250000</td>\n",
              "    </tr>\n",
              "    <tr>\n",
              "      <th>Finland</th>\n",
              "      <td>3.250000</td>\n",
              "    </tr>\n",
              "    <tr>\n",
              "      <th>France</th>\n",
              "      <td>3.248408</td>\n",
              "    </tr>\n",
              "    <tr>\n",
              "      <th>Germany</th>\n",
              "      <td>3.178571</td>\n",
              "    </tr>\n",
              "    <tr>\n",
              "      <th>Ghana</th>\n",
              "      <td>2.750000</td>\n",
              "    </tr>\n",
              "    <tr>\n",
              "      <th>Grenada</th>\n",
              "      <td>2.833333</td>\n",
              "    </tr>\n",
              "    <tr>\n",
              "      <th>Guatemala</th>\n",
              "      <td>3.350000</td>\n",
              "    </tr>\n",
              "    <tr>\n",
              "      <th>Honduras</th>\n",
              "      <td>3.208333</td>\n",
              "    </tr>\n",
              "    <tr>\n",
              "      <th>Hungary</th>\n",
              "      <td>3.204545</td>\n",
              "    </tr>\n",
              "    <tr>\n",
              "      <th>Iceland</th>\n",
              "      <td>3.416667</td>\n",
              "    </tr>\n",
              "    <tr>\n",
              "      <th>India</th>\n",
              "      <td>2.500000</td>\n",
              "    </tr>\n",
              "    <tr>\n",
              "      <th>Ireland</th>\n",
              "      <td>2.812500</td>\n",
              "    </tr>\n",
              "    <tr>\n",
              "      <th>Israel</th>\n",
              "      <td>3.250000</td>\n",
              "    </tr>\n",
              "    <tr>\n",
              "      <th>Italy</th>\n",
              "      <td>3.325397</td>\n",
              "    </tr>\n",
              "    <tr>\n",
              "      <th>Japan</th>\n",
              "      <td>3.088235</td>\n",
              "    </tr>\n",
              "    <tr>\n",
              "      <th>Lithuania</th>\n",
              "      <td>3.166667</td>\n",
              "    </tr>\n",
              "    <tr>\n",
              "      <th>Madagascar</th>\n",
              "      <td>3.147059</td>\n",
              "    </tr>\n",
              "    <tr>\n",
              "      <th>Mexico</th>\n",
              "      <td>2.687500</td>\n",
              "    </tr>\n",
              "    <tr>\n",
              "      <th>Netherlands</th>\n",
              "      <td>3.500000</td>\n",
              "    </tr>\n",
              "    <tr>\n",
              "      <th>New Zealand</th>\n",
              "      <td>3.191176</td>\n",
              "    </tr>\n",
              "    <tr>\n",
              "      <th>Nicaragua</th>\n",
              "      <td>2.958333</td>\n",
              "    </tr>\n",
              "    <tr>\n",
              "      <th>Peru</th>\n",
              "      <td>2.897059</td>\n",
              "    </tr>\n",
              "    <tr>\n",
              "      <th>Philippines</th>\n",
              "      <td>3.500000</td>\n",
              "    </tr>\n",
              "    <tr>\n",
              "      <th>Poland</th>\n",
              "      <td>3.375000</td>\n",
              "    </tr>\n",
              "    <tr>\n",
              "      <th>Portugal</th>\n",
              "      <td>2.750000</td>\n",
              "    </tr>\n",
              "    <tr>\n",
              "      <th>Russia</th>\n",
              "      <td>3.250000</td>\n",
              "    </tr>\n",
              "    <tr>\n",
              "      <th>Saint Lucia</th>\n",
              "      <td>3.000000</td>\n",
              "    </tr>\n",
              "    <tr>\n",
              "      <th>Singapore</th>\n",
              "      <td>3.333333</td>\n",
              "    </tr>\n",
              "    <tr>\n",
              "      <th>South Africa</th>\n",
              "      <td>2.666667</td>\n",
              "    </tr>\n",
              "    <tr>\n",
              "      <th>South Korea</th>\n",
              "      <td>3.200000</td>\n",
              "    </tr>\n",
              "    <tr>\n",
              "      <th>Spain</th>\n",
              "      <td>3.270000</td>\n",
              "    </tr>\n",
              "    <tr>\n",
              "      <th>Suriname</th>\n",
              "      <td>3.250000</td>\n",
              "    </tr>\n",
              "    <tr>\n",
              "      <th>Sweden</th>\n",
              "      <td>3.050000</td>\n",
              "    </tr>\n",
              "    <tr>\n",
              "      <th>Switzerland</th>\n",
              "      <td>3.342105</td>\n",
              "    </tr>\n",
              "    <tr>\n",
              "      <th>São Tomé and Principe</th>\n",
              "      <td>2.937500</td>\n",
              "    </tr>\n",
              "    <tr>\n",
              "      <th>United Kingdom</th>\n",
              "      <td>3.077103</td>\n",
              "    </tr>\n",
              "    <tr>\n",
              "      <th>United States of America</th>\n",
              "      <td>3.151367</td>\n",
              "    </tr>\n",
              "    <tr>\n",
              "      <th>Venezuela</th>\n",
              "      <td>3.175000</td>\n",
              "    </tr>\n",
              "    <tr>\n",
              "      <th>Vietnam</th>\n",
              "      <td>3.409091</td>\n",
              "    </tr>\n",
              "  </tbody>\n",
              "</table>\n",
              "</div>"
            ],
            "text/plain": [
              "                            Rating\n",
              "Country                           \n",
              "Argentina                 3.305556\n",
              "Australia                 3.357143\n",
              "Austria                   3.240385\n",
              "Belgium                   3.093750\n",
              "Bolivia                   3.250000\n",
              "Brazil                    3.397059\n",
              "Canada                    3.318548\n",
              "Chile                     3.750000\n",
              "Colombia                  3.173913\n",
              "Costa Rica                3.138889\n",
              "Czechia                   2.750000\n",
              "Denmark                   3.283333\n",
              "Dominican Republic        3.200000\n",
              "Ecuador                   3.009091\n",
              "Fiji                      3.250000\n",
              "Finland                   3.250000\n",
              "France                    3.248408\n",
              "Germany                   3.178571\n",
              "Ghana                     2.750000\n",
              "Grenada                   2.833333\n",
              "Guatemala                 3.350000\n",
              "Honduras                  3.208333\n",
              "Hungary                   3.204545\n",
              "Iceland                   3.416667\n",
              "India                     2.500000\n",
              "Ireland                   2.812500\n",
              "Israel                    3.250000\n",
              "Italy                     3.325397\n",
              "Japan                     3.088235\n",
              "Lithuania                 3.166667\n",
              "Madagascar                3.147059\n",
              "Mexico                    2.687500\n",
              "Netherlands               3.500000\n",
              "New Zealand               3.191176\n",
              "Nicaragua                 2.958333\n",
              "Peru                      2.897059\n",
              "Philippines               3.500000\n",
              "Poland                    3.375000\n",
              "Portugal                  2.750000\n",
              "Russia                    3.250000\n",
              "Saint Lucia               3.000000\n",
              "Singapore                 3.333333\n",
              "South Africa              2.666667\n",
              "South Korea               3.200000\n",
              "Spain                     3.270000\n",
              "Suriname                  3.250000\n",
              "Sweden                    3.050000\n",
              "Switzerland               3.342105\n",
              "São Tomé and Principe     2.937500\n",
              "United Kingdom            3.077103\n",
              "United States of America  3.151367\n",
              "Venezuela                 3.175000\n",
              "Vietnam                   3.409091"
            ]
          },
          "metadata": {
            "tags": []
          },
          "execution_count": 48
        }
      ]
    },
    {
      "cell_type": "code",
      "metadata": {
        "id": "0kxAqrR9CYM1",
        "colab_type": "code",
        "outputId": "fd8e32ef-ecb8-49e0-f3ea-fcf2bde7e247",
        "colab": {
          "base_uri": "https://localhost:8080/",
          "height": 124
        }
      },
      "source": [
        "plot_data.info()"
      ],
      "execution_count": 0,
      "outputs": [
        {
          "output_type": "stream",
          "text": [
            "<class 'pandas.core.frame.DataFrame'>\n",
            "Index: 53 entries, Argentina to Vietnam\n",
            "Data columns (total 1 columns):\n",
            "Rating    53 non-null float64\n",
            "dtypes: float64(1)\n",
            "memory usage: 848.0+ bytes\n"
          ],
          "name": "stdout"
        }
      ]
    },
    {
      "cell_type": "code",
      "metadata": {
        "id": "QHEITBUz7Ld-",
        "colab_type": "code",
        "colab": {}
      },
      "source": [
        "# Merge two datasets to add geometry info\n",
        "plot_data = plot_data.merge(geo_data, how= 'right', left_index = True, right_on = 'country')"
      ],
      "execution_count": 0,
      "outputs": []
    },
    {
      "cell_type": "code",
      "metadata": {
        "id": "G-fBz7b5C_u1",
        "colab_type": "code",
        "colab": {}
      },
      "source": [
        "# Merge two datasets to add geometry info\n",
        "test_data = plot_data.merge(geo_data, how= 'right', left_index = True, right_on = 'country')"
      ],
      "execution_count": 0,
      "outputs": []
    },
    {
      "cell_type": "code",
      "metadata": {
        "id": "_uPaxec4DBvi",
        "colab_type": "code",
        "outputId": "233ae4cf-8654-46f9-d8ac-30da4bee4dc8",
        "colab": {
          "base_uri": "https://localhost:8080/",
          "height": 428
        }
      },
      "source": [
        "test_data"
      ],
      "execution_count": 0,
      "outputs": [
        {
          "output_type": "execute_result",
          "data": {
            "text/html": [
              "<div>\n",
              "<style scoped>\n",
              "    .dataframe tbody tr th:only-of-type {\n",
              "        vertical-align: middle;\n",
              "    }\n",
              "\n",
              "    .dataframe tbody tr th {\n",
              "        vertical-align: top;\n",
              "    }\n",
              "\n",
              "    .dataframe thead th {\n",
              "        text-align: right;\n",
              "    }\n",
              "</style>\n",
              "<table border=\"1\" class=\"dataframe\">\n",
              "  <thead>\n",
              "    <tr style=\"text-align: right;\">\n",
              "      <th></th>\n",
              "      <th>Rating</th>\n",
              "      <th>country</th>\n",
              "      <th>geometry</th>\n",
              "    </tr>\n",
              "  </thead>\n",
              "  <tbody>\n",
              "    <tr>\n",
              "      <th>2</th>\n",
              "      <td>3.750000</td>\n",
              "      <td>Chile</td>\n",
              "      <td>MULTIPOLYGON (((-69.51009 -17.50659, -69.50611...</td>\n",
              "    </tr>\n",
              "    <tr>\n",
              "      <th>3</th>\n",
              "      <td>3.250000</td>\n",
              "      <td>Bolivia</td>\n",
              "      <td>POLYGON ((-69.51009 -17.50659, -69.51009 -17.5...</td>\n",
              "    </tr>\n",
              "    <tr>\n",
              "      <th>4</th>\n",
              "      <td>2.897059</td>\n",
              "      <td>Peru</td>\n",
              "      <td>MULTIPOLYGON (((-69.51009 -17.50659, -69.63832...</td>\n",
              "    </tr>\n",
              "    <tr>\n",
              "      <th>5</th>\n",
              "      <td>3.305556</td>\n",
              "      <td>Argentina</td>\n",
              "      <td>MULTIPOLYGON (((-67.28475 -23.83414, -67.25133...</td>\n",
              "    </tr>\n",
              "    <tr>\n",
              "      <th>23</th>\n",
              "      <td>3.250000</td>\n",
              "      <td>Suriname</td>\n",
              "      <td>POLYGON ((-54.08080 3.30931, -54.11429 3.28538...</td>\n",
              "    </tr>\n",
              "    <tr>\n",
              "      <th>24</th>\n",
              "      <td>NaN</td>\n",
              "      <td>Guyana</td>\n",
              "      <td>MULTIPOLYGON (((-56.48182 1.94161, -56.52851 1...</td>\n",
              "    </tr>\n",
              "    <tr>\n",
              "      <th>45</th>\n",
              "      <td>3.397059</td>\n",
              "      <td>Brazil</td>\n",
              "      <td>MULTIPOLYGON (((-57.61170 -30.18296, -57.56865...</td>\n",
              "    </tr>\n",
              "    <tr>\n",
              "      <th>46</th>\n",
              "      <td>NaN</td>\n",
              "      <td>Uruguay</td>\n",
              "      <td>POLYGON ((-53.37909 -33.74068, -53.39635 -33.7...</td>\n",
              "    </tr>\n",
              "    <tr>\n",
              "      <th>136</th>\n",
              "      <td>3.009091</td>\n",
              "      <td>Ecuador</td>\n",
              "      <td>MULTIPOLYGON (((-78.82868 1.43431, -78.76997 1...</td>\n",
              "    </tr>\n",
              "    <tr>\n",
              "      <th>137</th>\n",
              "      <td>3.173913</td>\n",
              "      <td>Colombia</td>\n",
              "      <td>MULTIPOLYGON (((-78.82868 1.43431, -78.81286 1...</td>\n",
              "    </tr>\n",
              "    <tr>\n",
              "      <th>138</th>\n",
              "      <td>NaN</td>\n",
              "      <td>Paraguay</td>\n",
              "      <td>POLYGON ((-62.65036 -22.23446, -62.62752 -22.1...</td>\n",
              "    </tr>\n",
              "    <tr>\n",
              "      <th>158</th>\n",
              "      <td>3.175000</td>\n",
              "      <td>Venezuela</td>\n",
              "      <td>MULTIPOLYGON (((-60.02099 8.55801, -59.95969 8...</td>\n",
              "    </tr>\n",
              "    <tr>\n",
              "      <th>239</th>\n",
              "      <td>3.077103</td>\n",
              "      <td>United Kingdom</td>\n",
              "      <td>MULTIPOLYGON (((-59.69445 -52.20810, -59.67687...</td>\n",
              "    </tr>\n",
              "  </tbody>\n",
              "</table>\n",
              "</div>"
            ],
            "text/plain": [
              "       Rating  ...                                           geometry\n",
              "2    3.750000  ...  MULTIPOLYGON (((-69.51009 -17.50659, -69.50611...\n",
              "3    3.250000  ...  POLYGON ((-69.51009 -17.50659, -69.51009 -17.5...\n",
              "4    2.897059  ...  MULTIPOLYGON (((-69.51009 -17.50659, -69.63832...\n",
              "5    3.305556  ...  MULTIPOLYGON (((-67.28475 -23.83414, -67.25133...\n",
              "23   3.250000  ...  POLYGON ((-54.08080 3.30931, -54.11429 3.28538...\n",
              "24        NaN  ...  MULTIPOLYGON (((-56.48182 1.94161, -56.52851 1...\n",
              "45   3.397059  ...  MULTIPOLYGON (((-57.61170 -30.18296, -57.56865...\n",
              "46        NaN  ...  POLYGON ((-53.37909 -33.74068, -53.39635 -33.7...\n",
              "136  3.009091  ...  MULTIPOLYGON (((-78.82868 1.43431, -78.76997 1...\n",
              "137  3.173913  ...  MULTIPOLYGON (((-78.82868 1.43431, -78.81286 1...\n",
              "138       NaN  ...  POLYGON ((-62.65036 -22.23446, -62.62752 -22.1...\n",
              "158  3.175000  ...  MULTIPOLYGON (((-60.02099 8.55801, -59.95969 8...\n",
              "239  3.077103  ...  MULTIPOLYGON (((-59.69445 -52.20810, -59.67687...\n",
              "\n",
              "[13 rows x 3 columns]"
            ]
          },
          "metadata": {
            "tags": []
          },
          "execution_count": 44
        }
      ]
    },
    {
      "cell_type": "code",
      "metadata": {
        "id": "sND82WxcNZ2_",
        "colab_type": "code",
        "colab": {}
      },
      "source": [
        "# Convert the Pandas DataFrame to a GeoPandas DataFrame\n",
        "plot_data = gpd.GeoDataFrame(plot_data, geometry = 'geometry')"
      ],
      "execution_count": 0,
      "outputs": []
    },
    {
      "cell_type": "code",
      "metadata": {
        "id": "1VYWGY5vNBBf",
        "colab_type": "code",
        "outputId": "a3776db0-ce55-4b37-e063-895e6257a975",
        "colab": {
          "base_uri": "https://localhost:8080/",
          "height": 846
        }
      },
      "source": [
        "# Plot \n",
        "gplt.choropleth(plot_data, hue = 'Rating', cmap = 'Blues', figsize = (30,15))\n",
        "\n",
        "# Add data label to the map\n",
        "plot_data['coords'] = plot_data['geometry'].apply(lambda x: x.representative_point().coords[:])\n",
        "plot_data['coords'] = [coords[0] for coords in plot_data['coords']]\n",
        "\n",
        "for _, data in plot_data.iterrows():\n",
        "\n",
        "  plt.text(x = data['coords'][0], y = data['coords'][1], \n",
        "           s = data['country'], ha = 'center', color = 'red')\n",
        "  plt.text(x = data['coords'][0], y = data['coords'][1] - 2, \n",
        "          s = f\"Rating: {data['Rating']:.2f}\", ha = 'center', color = 'red')\n"
      ],
      "execution_count": 0,
      "outputs": [
        {
          "output_type": "display_data",
          "data": {
            "image/png": "[encoded data removed]",
            "text/plain": [
              "<Figure size 2160x1080 with 1 Axes>"
            ]
          },
          "metadata": {
            "tags": []
          }
        }
      ]
    },
    {
      "cell_type": "code",
      "metadata": {
        "id": "wAiIQ-HdGeTg",
        "colab_type": "code",
        "colab": {}
      },
      "source": [
        ""
      ],
      "execution_count": 0,
      "outputs": []
    }
  ]
}